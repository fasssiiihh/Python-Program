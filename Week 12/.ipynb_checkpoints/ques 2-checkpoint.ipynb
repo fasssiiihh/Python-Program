{
 "cells": [
  {
   "cell_type": "code",
   "execution_count": 2,
   "id": "99087883",
   "metadata": {},
   "outputs": [
    {
     "name": "stdout",
     "output_type": "stream",
     "text": [
      "15\n"
     ]
    }
   ],
   "source": [
    "n=5\n",
    "sum1 = 0\n",
    "while(n > 0):\n",
    "    sum1=sum1+n\n",
    "    n=n-1\n",
    "print(sum1)"
   ]
  },
  {
   "cell_type": "code",
   "execution_count": 13,
   "id": "28bbf490",
   "metadata": {},
   "outputs": [
    {
     "name": "stdout",
     "output_type": "stream",
     "text": [
      "1\n",
      "2\n",
      "3\n",
      "4\n",
      "5\n",
      "the total sum is  25\n"
     ]
    }
   ],
   "source": [
    "num=5\n",
    "sum = 0\n",
    "i=1;\n",
    "while i<=num :\n",
    "    print(i),\n",
    "    i=i+1\n",
    "    sum= sum + num\n",
    "print(\"the total sum is \",sum)    "
   ]
  },
  {
   "cell_type": "code",
   "execution_count": 14,
   "id": "9e5621cf",
   "metadata": {},
   "outputs": [
    {
     "name": "stdout",
     "output_type": "stream",
     "text": [
      "enter a value: 5\n"
     ]
    }
   ],
   "source": [
    "x = int(input(\"enter a value: \"))\n",
    "y = x\n",
    "fact = 1"
   ]
  },
  {
   "cell_type": "code",
   "execution_count": 15,
   "id": "8d63e449",
   "metadata": {},
   "outputs": [
    {
     "name": "stdout",
     "output_type": "stream",
     "text": [
      "5\n",
      "4\n",
      "3\n",
      "2\n",
      "1\n"
     ]
    }
   ],
   "source": [
    "if y > 0:\n",
    "    while y > 0:\n",
    "        print(y)\n",
    "        fact = y * fact\n",
    "        y = y - 1\n",
    "        \n",
    "else:\n",
    "    print('wrong value')"
   ]
  },
  {
   "cell_type": "code",
   "execution_count": 16,
   "id": "7b6762c9",
   "metadata": {},
   "outputs": [
    {
     "name": "stdout",
     "output_type": "stream",
     "text": [
      "The factorial of 5 = 120\n"
     ]
    }
   ],
   "source": [
    "print(\"The factorial of\", x, \"=\", fact)\n"
   ]
  },
  {
   "cell_type": "code",
   "execution_count": null,
   "id": "f75813f2",
   "metadata": {},
   "outputs": [],
   "source": []
  }
 ],
 "metadata": {
  "kernelspec": {
   "display_name": "Python 3",
   "language": "python",
   "name": "python3"
  },
  "language_info": {
   "codemirror_mode": {
    "name": "ipython",
    "version": 3
   },
   "file_extension": ".py",
   "mimetype": "text/x-python",
   "name": "python",
   "nbconvert_exporter": "python",
   "pygments_lexer": "ipython3",
   "version": "3.8.8"
  }
 },
 "nbformat": 4,
 "nbformat_minor": 5
}
