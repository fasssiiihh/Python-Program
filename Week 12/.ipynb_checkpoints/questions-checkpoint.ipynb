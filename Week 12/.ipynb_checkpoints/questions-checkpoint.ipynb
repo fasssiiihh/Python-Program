{
 "cells": [
  {
   "cell_type": "code",
   "execution_count": 5,
   "id": "965888bf",
   "metadata": {},
   "outputs": [
    {
     "name": "stdout",
     "output_type": "stream",
     "text": [
      "enter any number5\n",
      "5 x 1 = 5\n",
      "5 x 2 = 10\n",
      "5 x 3 = 15\n",
      "5 x 4 = 20\n",
      "5 x 5 = 25\n",
      "5 x 6 = 30\n",
      "5 x 7 = 35\n",
      "5 x 8 = 40\n",
      "5 x 9 = 45\n",
      "5 x 10 = 50\n"
     ]
    }
   ],
   "source": [
    "# table of any number\n",
    "num=int(input(\"enter any number\"))\n",
    "n=1\n",
    "while n<=10:\n",
    "    print(num,\"x\",n,\"=\",n*num)\n",
    "    n=n+1"
   ]
  },
  {
   "cell_type": "code",
   "execution_count": 4,
   "id": "eeebb13d",
   "metadata": {},
   "outputs": [
    {
     "name": "stdout",
     "output_type": "stream",
     "text": [
      "1\n",
      "3\n",
      "5\n",
      "7\n",
      "9\n"
     ]
    }
   ],
   "source": [
    "# odd number using loop\n",
    "for i in range(1,10):\n",
    "    if i%2==0:\n",
    "        continue\n",
    "    else:\n",
    "        print(i)"
   ]
  },
  {
   "cell_type": "code",
   "execution_count": 6,
   "id": "8f3ef12a",
   "metadata": {},
   "outputs": [],
   "source": [
    "#prime \n",
    "def prime2(x):\n",
    "    result=0\n",
    "    for y in range(2,x):\n",
    "        if x%y==0:\n",
    "            result=1\n",
    "            print(x,\"number is not prime number\")\n",
    "            break\n",
    "    if(result==0):\n",
    "        print(x,\"number is prime\")"
   ]
  },
  {
   "cell_type": "code",
   "execution_count": 7,
   "id": "5853fdbb",
   "metadata": {},
   "outputs": [
    {
     "name": "stdout",
     "output_type": "stream",
     "text": [
      "2 number is prime\n"
     ]
    }
   ],
   "source": [
    "prime2(2)"
   ]
  },
  {
   "cell_type": "code",
   "execution_count": null,
   "id": "fb1e4444",
   "metadata": {},
   "outputs": [],
   "source": [
    "num=5\n",
    "i=1;\n",
    "while i<=num :\n",
    "    print(i),\n",
    "    i=i+1"
   ]
  },
  {
   "cell_type": "code",
   "execution_count": null,
   "id": "25500fa5",
   "metadata": {},
   "outputs": [],
   "source": [
    "n=5\n",
    "sum1 = 0\n",
    "while(n > 0):\n",
    "    sum1=sum1+n\n",
    "    n=n-1\n",
    "print(sum1)"
   ]
  },
  {
   "cell_type": "code",
   "execution_count": null,
   "id": "2098403d",
   "metadata": {},
   "outputs": [],
   "source": []
  },
  {
   "cell_type": "code",
   "execution_count": null,
   "id": "d018b0a2",
   "metadata": {},
   "outputs": [],
   "source": []
  }
 ],
 "metadata": {
  "kernelspec": {
   "display_name": "Python 3",
   "language": "python",
   "name": "python3"
  },
  "language_info": {
   "codemirror_mode": {
    "name": "ipython",
    "version": 3
   },
   "file_extension": ".py",
   "mimetype": "text/x-python",
   "name": "python",
   "nbconvert_exporter": "python",
   "pygments_lexer": "ipython3",
   "version": "3.8.8"
  }
 },
 "nbformat": 4,
 "nbformat_minor": 5
}
