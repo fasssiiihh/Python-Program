{
 "cells": [
  {
   "cell_type": "code",
   "execution_count": null,
   "id": "6089e5f8",
   "metadata": {},
   "outputs": [],
   "source": [
    "#Q4: Write a program that prompts the user to input a character and determine the character is vowel or sonsonant?\n",
    "# taking user input\n",
    " f = input(\"Enter a character: \")\n",
    "\n",
    "if f=='A' or f=='a' or f=='E' or f =='e' or f=='I'\n",
    " or f=='i' or f=='O' or f=='o' or f=='U' or f=='u':\n",
    "    print(f, \"is a Vowel\")\n",
    "else:\n",
    "    print(f, \"is a Consonant\")"
   ]
  },
  {
   "cell_type": "code",
   "execution_count": null,
   "id": "662f4aa5",
   "metadata": {},
   "outputs": [],
   "source": [
    "#Q2: write  a python program that accepts string from user.Your programshould create a new string\n",
    "# and display it ?\n"
   ]
  },
  {
   "cell_type": "code",
   "execution_count": null,
   "id": "b81c5872",
   "metadata": {},
   "outputs": [],
   "source": [
    "f  = input('Enter any character: ')\n",
    "if f == 'a' or f == 'e' or f=='i' or f =='o' or f == 'u':\n",
    "    print(\" Vovel Number.\")\n",
    "    \n",
    "else:\n",
    "    print(\" consunent Number .\")\n",
    "    "
   ]
  },
  {
   "cell_type": "code",
   "execution_count": null,
   "id": "0530e945",
   "metadata": {},
   "outputs": [],
   "source": [
    "arr = [[2, 11, 7, 12],[5, 2, 9, 15],[8, 3, 10, 42]]"
   ]
  },
  {
   "cell_type": "code",
   "execution_count": null,
   "id": "2b3fb34f",
   "metadata": {},
   "outputs": [],
   "source": [
    "print(\"sum of row 1 =\", sum(arr[:][0]))\n",
    "print(\"sum of row 2 =\", sum(arr[:][1]))\n",
    "print(\"sum of row 3 =\", sum(arr[:][2]))"
   ]
  },
  {
   "cell_type": "code",
   "execution_count": null,
   "id": "2774585b",
   "metadata": {},
   "outputs": [],
   "source": []
  }
 ],
 "metadata": {
  "kernelspec": {
   "display_name": "Python 3",
   "language": "python",
   "name": "python3"
  },
  "language_info": {
   "codemirror_mode": {
    "name": "ipython",
    "version": 3
   },
   "file_extension": ".py",
   "mimetype": "text/x-python",
   "name": "python",
   "nbconvert_exporter": "python",
   "pygments_lexer": "ipython3",
   "version": "3.8.8"
  }
 },
 "nbformat": 4,
 "nbformat_minor": 5
}
