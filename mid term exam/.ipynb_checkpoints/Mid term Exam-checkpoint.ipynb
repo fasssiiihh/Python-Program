{
 "cells": [
  {
   "cell_type": "code",
   "execution_count": 1,
   "id": "08bdfd09",
   "metadata": {},
   "outputs": [],
   "source": [
    "# MCQ \n",
    "x = 5\n",
    "y = 7\n",
    "\n",
    "z= x+y+1"
   ]
  },
  {
   "cell_type": "code",
   "execution_count": 3,
   "id": "e7c2a701",
   "metadata": {},
   "outputs": [
    {
     "data": {
      "text/plain": [
       "13"
      ]
     },
     "execution_count": 3,
     "metadata": {},
     "output_type": "execute_result"
    }
   ],
   "source": [
    "z"
   ]
  },
  {
   "cell_type": "code",
   "execution_count": 1,
   "id": "d7e03b57",
   "metadata": {},
   "outputs": [
    {
     "name": "stdout",
     "output_type": "stream",
     "text": [
      "sum of row 1 = 32\n",
      "sum of row 2 = 31\n",
      "sum of row 3 = 63\n"
     ]
    }
   ],
   "source": [
    "#Q5:  Find the sun of each row of matrix of size m x n .\n",
    "#sum of row 1 = 32 , \n",
    "#sum of row 2 = 31 , \n",
    "#sum of row 3 = 63 .\n",
    "arr = [[2, 11, 7, 12],[5, 2, 9, 15],[8, 3, 10, 42]]\n",
    "print(\"sum of row 1 =\", sum(arr[:][0]))\n",
    "print(\"sum of row 2 =\", sum(arr[:][1]))\n",
    "print(\"sum of row 3 =\", sum(arr[:][2]))"
   ]
  },
  {
   "cell_type": "code",
   "execution_count": 2,
   "id": "d319d2e0",
   "metadata": {},
   "outputs": [
    {
     "name": "stdout",
     "output_type": "stream",
     "text": [
      "Factorial is 4\n",
      "24\n"
     ]
    }
   ],
   "source": [
    "# Q3 Write a program that prompts the user to input a number and print its fatorial.\n",
    "def fac(i):\n",
    "    if(i == 1):\n",
    "        return i\n",
    "    \n",
    "    return i * fac(i-1)\n",
    "    \n",
    "print(fac(int(input(\"Factorial is \"))))"
   ]
  },
  {
   "cell_type": "code",
   "execution_count": null,
   "id": "1bf10b12",
   "metadata": {},
   "outputs": [],
   "source": [
    "#Q4: Write a program that prompts the user to input a character and determine the character is vowel or sonsonant?\n",
    "# taking user input\n",
    "f  = input('Enter any character: ')\n",
    "if f == 'a' or f == 'e' or f=='i' or f =='o' or f == 'u':\n",
    "    print(\" Vovel Number.\")\n",
    "    \n",
    "else:\n",
    "    print(\" consunent Number .\")"
   ]
  },
  {
   "cell_type": "code",
   "execution_count": null,
   "id": "d673ce27",
   "metadata": {},
   "outputs": [],
   "source": [
    "#Q2 write  a python program that accepts string from user.Your program should create a new string\n",
    "# and display it ?\n",
    "x = [:: - 1]\n",
    "print(\"FASIH \", x)"
   ]
  },
  {
   "cell_type": "code",
   "execution_count": null,
   "id": "f2115553",
   "metadata": {},
   "outputs": [],
   "source": [
    "#Q 6.#Write a  program that accepts a list from user.Your Program should reverse tthe content of list and display it.\n",
    "# Do not use reverse() method?\n",
    "#question 6\n",
    "x = []\n",
    "\n",
    "for _ in range(5):\n",
    "    usr_in = int(input(\"Enter the values: \"))\n",
    "    x.append(usr_in)\n",
    "\n",
    "print(x[::-1])"
   ]
  }
 ],
 "metadata": {
  "kernelspec": {
   "display_name": "Python 3",
   "language": "python",
   "name": "python3"
  },
  "language_info": {
   "codemirror_mode": {
    "name": "ipython",
    "version": 3
   },
   "file_extension": ".py",
   "mimetype": "text/x-python",
   "name": "python",
   "nbconvert_exporter": "python",
   "pygments_lexer": "ipython3",
   "version": "3.8.8"
  }
 },
 "nbformat": 4,
 "nbformat_minor": 5
}
